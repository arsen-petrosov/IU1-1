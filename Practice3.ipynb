{
 "cells": [
  {
   "cell_type": "code",
   "execution_count": 1,
   "id": "c626c12b",
   "metadata": {},
   "outputs": [
    {
     "name": "stdout",
     "output_type": "stream",
     "text": [
      "введите 2 цифры через пробел (1 - количество корпаративных счетов, 2 - количество менеджеров\n",
      "3 6\n",
      "введите баланс на каждом из 3 счётов\n",
      "453\n",
      "220\n",
      "601\n",
      "Входные данные\n",
      "3 - 6\n",
      "220\n",
      "453\n",
      "601\n",
      "Вывод -> 200\n"
     ]
    }
   ],
   "source": [
    "print(\"введите 2 цифры через пробел (1 - количество корпаративных счетов, 2 - количество менеджеров\")\n",
    "line = str(input())\n",
    "\n",
    "values = line.split(' ')\n",
    "\n",
    "billCount = int(values[0])\n",
    "managerCount = int(values[1])\n",
    "\n",
    "print(\"введите баланс на каждом из\", billCount, \"счётов\")\n",
    "\n",
    "array = list()\n",
    "sum = 0\n",
    "for i in range(billCount):\n",
    "    bills = int(input())\n",
    "    array.append(bills)\n",
    "    sum += bills\n",
    "array.sort()\n",
    "digit = array[0]\n",
    "\n",
    "if sum < managerCount:\n",
    "    digit = 0\n",
    "\n",
    "else:\n",
    "    cntSum = 0\n",
    "    while cntSum < managerCount:\n",
    "        for z in range(billCount):\n",
    "            if array[z] // digit >= 1:\n",
    "                cntSum += array[z] // digit\n",
    "                # print(cntSum, \" - \", array[z], \" - \", digit)\n",
    "        if cntSum < 6:\n",
    "            cntSum = 0\n",
    "            digit -= 1\n",
    "\n",
    "print(\"Входные данные\")\n",
    "print(billCount, \"-\", managerCount)\n",
    "for j in range(billCount):\n",
    "    print(array[j])\n",
    "\n",
    "print(\"Вывод ->\", digit)"
   ]
  }
 ],
 "metadata": {
  "kernelspec": {
   "display_name": "Python 3 (ipykernel)",
   "language": "python",
   "name": "python3"
  },
  "language_info": {
   "codemirror_mode": {
    "name": "ipython",
    "version": 3
   },
   "file_extension": ".py",
   "mimetype": "text/x-python",
   "name": "python",
   "nbconvert_exporter": "python",
   "pygments_lexer": "ipython3",
   "version": "3.9.7"
  }
 },
 "nbformat": 4,
 "nbformat_minor": 5
}
