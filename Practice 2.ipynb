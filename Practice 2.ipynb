{
 "cells": [
  {
   "cell_type": "code",
   "execution_count": 340,
   "id": "55caf351",
   "metadata": {},
   "outputs": [],
   "source": [
    "def print_matrix_modified(matrix):\n",
    "    maxLenInColumn = []\n",
    "    \n",
    "    for rowSize in matrix:\n",
    "        cnt = 0\n",
    "        for element in rowSize:\n",
    "            cnt += 1\n",
    "    for i in range(cnt):\n",
    "        \n",
    "        max = 0\n",
    "        for row0 in matrix:\n",
    "            \n",
    "            \n",
    "            if row0[i] > max:\n",
    "                max = row0[i]\n",
    "       \n",
    "        maxLenInColumn.append(len(str(max)))\n",
    "        \n",
    "     \n",
    "    for row in matrix:\n",
    "        i = 0\n",
    "        row_str = \"\"\n",
    "        for el in row:\n",
    "            row_str = row_str + str(el).rjust(maxLenInColumn[i]) + \" \"\n",
    "            i += 1\n",
    "        print(row_str)\n",
    "        "
   ]
  },
  {
   "cell_type": "code",
   "execution_count": 341,
   "id": "9676f343",
   "metadata": {
    "scrolled": true
   },
   "outputs": [
    {
     "name": "stdout",
     "output_type": "stream",
     "text": [
      "           1 11 111     7 \n",
      "111111111111  4   6 11111 \n"
     ]
    }
   ],
   "source": [
    "arr = [[1,11,111, 7], [111111111111,4,6,11111]]\n",
    "print_matrix_modified(arr)"
   ]
  }
 ],
 "metadata": {
  "kernelspec": {
   "display_name": "Python 3 (ipykernel)",
   "language": "python",
   "name": "python3"
  },
  "language_info": {
   "codemirror_mode": {
    "name": "ipython",
    "version": 3
   },
   "file_extension": ".py",
   "mimetype": "text/x-python",
   "name": "python",
   "nbconvert_exporter": "python",
   "pygments_lexer": "ipython3",
   "version": "3.9.7"
  }
 },
 "nbformat": 4,
 "nbformat_minor": 5
}
