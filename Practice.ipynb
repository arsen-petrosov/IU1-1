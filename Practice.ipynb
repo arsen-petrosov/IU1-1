{
 "cells": [
  {
   "cell_type": "markdown",
   "id": "b540ca16",
   "metadata": {},
   "source": [
    "# lesson1"
   ]
  },
  {
   "cell_type": "code",
   "execution_count": 2,
   "id": "0e9b7aaa",
   "metadata": {},
   "outputs": [
    {
     "data": {
      "text/plain": [
       "-2.9000000000000004"
      ]
     },
     "execution_count": 2,
     "metadata": {},
     "output_type": "execute_result"
    }
   ],
   "source": [
    "3.5-6.4"
   ]
  },
  {
   "cell_type": "code",
   "execution_count": 4,
   "id": "58a3f80c",
   "metadata": {},
   "outputs": [
    {
     "data": {
      "text/plain": [
       "True"
      ]
     },
     "execution_count": 4,
     "metadata": {},
     "output_type": "execute_result"
    }
   ],
   "source": [
    "0.333333333333333333333333333 == 1/3"
   ]
  },
  {
   "cell_type": "code",
   "execution_count": 6,
   "id": "4606d864",
   "metadata": {},
   "outputs": [
    {
     "data": {
      "text/plain": [
       "1.0"
      ]
     },
     "execution_count": 6,
     "metadata": {},
     "output_type": "execute_result"
    }
   ],
   "source": [
    "round(1.33333333, 0)"
   ]
  },
  {
   "cell_type": "code",
   "execution_count": 14,
   "id": "ac7277b6",
   "metadata": {},
   "outputs": [
    {
     "data": {
      "text/plain": [
       "float"
      ]
     },
     "execution_count": 14,
     "metadata": {},
     "output_type": "execute_result"
    }
   ],
   "source": [
    "type(12345/3)"
   ]
  },
  {
   "cell_type": "code",
   "execution_count": 19,
   "id": "37cfbfbc",
   "metadata": {},
   "outputs": [
    {
     "data": {
      "text/plain": [
       "64"
      ]
     },
     "execution_count": 19,
     "metadata": {},
     "output_type": "execute_result"
    }
   ],
   "source": [
    "int(\"100\", 8)"
   ]
  },
  {
   "cell_type": "code",
   "execution_count": null,
   "id": "58402878",
   "metadata": {},
   "outputs": [],
   "source": [
    "4%2==0"
   ]
  },
  {
   "cell_type": "code",
   "execution_count": 6,
   "id": "101c6bfe",
   "metadata": {},
   "outputs": [
    {
     "name": "stdout",
     "output_type": "stream",
     "text": [
      "введите число21\n",
      "21 чёт\n"
     ]
    }
   ],
   "source": [
    "a = int(input(\"введите число\"))\n",
    "if a % 2 == 0:\n",
    "    print(str(a) + \" \" + \"чёт\")\n",
    "else:\n",
    "    print(str(a) + \" \" + \"чёт\")"
   ]
  },
  {
   "cell_type": "code",
   "execution_count": 2,
   "id": "01e3d7a8",
   "metadata": {},
   "outputs": [
    {
     "ename": "NameError",
     "evalue": "name 'ptint' is not defined",
     "output_type": "error",
     "traceback": [
      "\u001b[1;31m---------------------------------------------------------------------------\u001b[0m",
      "\u001b[1;31mNameError\u001b[0m                                 Traceback (most recent call last)",
      "\u001b[1;32m~\\AppData\\Local\\Temp/ipykernel_6732/3230431316.py\u001b[0m in \u001b[0;36m<module>\u001b[1;34m\u001b[0m\n\u001b[0;32m      1\u001b[0m \u001b[1;32mfor\u001b[0m \u001b[0mi\u001b[0m \u001b[1;32min\u001b[0m \u001b[0mrange\u001b[0m\u001b[1;33m(\u001b[0m\u001b[1;36m10\u001b[0m\u001b[1;33m)\u001b[0m\u001b[1;33m:\u001b[0m\u001b[1;33m\u001b[0m\u001b[1;33m\u001b[0m\u001b[0m\n\u001b[1;32m----> 2\u001b[1;33m     \u001b[0mptint\u001b[0m\u001b[1;33m(\u001b[0m\u001b[0mi\u001b[0m\u001b[1;33m+\u001b[0m\u001b[1;36m1\u001b[0m\u001b[1;33m)\u001b[0m\u001b[1;33m\u001b[0m\u001b[1;33m\u001b[0m\u001b[0m\n\u001b[0m",
      "\u001b[1;31mNameError\u001b[0m: name 'ptint' is not defined"
     ]
    }
   ],
   "source": [
    "for i in range(10):\n",
    "    ptint(i+1)"
   ]
  },
  {
   "cell_type": "code",
   "execution_count": null,
   "id": "be97e7f8",
   "metadata": {},
   "outputs": [],
   "source": []
  }
 ],
 "metadata": {
  "kernelspec": {
   "display_name": "Python 3 (ipykernel)",
   "language": "python",
   "name": "python3"
  },
  "language_info": {
   "codemirror_mode": {
    "name": "ipython",
    "version": 3
   },
   "file_extension": ".py",
   "mimetype": "text/x-python",
   "name": "python",
   "nbconvert_exporter": "python",
   "pygments_lexer": "ipython3",
   "version": "3.9.7"
  }
 },
 "nbformat": 4,
 "nbformat_minor": 5
}
