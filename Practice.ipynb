{
 "cells": [
  {
   "cell_type": "markdown",
   "id": "b540ca16",
   "metadata": {},
   "source": [
    "# lesson1"
   ]
  },
  {
   "cell_type": "code",
   "execution_count": 2,
   "id": "0e9b7aaa",
   "metadata": {},
   "outputs": [
    {
     "data": {
      "text/plain": [
       "-2.9000000000000004"
      ]
     },
     "execution_count": 2,
     "metadata": {},
     "output_type": "execute_result"
    }
   ],
   "source": [
    "3.5-6.4"
   ]
  },
  {
   "cell_type": "code",
   "execution_count": 4,
   "id": "58a3f80c",
   "metadata": {},
   "outputs": [
    {
     "data": {
      "text/plain": [
       "True"
      ]
     },
     "execution_count": 4,
     "metadata": {},
     "output_type": "execute_result"
    }
   ],
   "source": [
    "0.333333333333333333333333333 == 1/3"
   ]
  },
  {
   "cell_type": "code",
   "execution_count": 6,
   "id": "4606d864",
   "metadata": {},
   "outputs": [
    {
     "data": {
      "text/plain": [
       "1.0"
      ]
     },
     "execution_count": 6,
     "metadata": {},
     "output_type": "execute_result"
    }
   ],
   "source": [
    "round(1.33333333, 0)"
   ]
  },
  {
   "cell_type": "code",
   "execution_count": 14,
   "id": "ac7277b6",
   "metadata": {},
   "outputs": [
    {
     "data": {
      "text/plain": [
       "float"
      ]
     },
     "execution_count": 14,
     "metadata": {},
     "output_type": "execute_result"
    }
   ],
   "source": [
    "type(12345/3)"
   ]
  },
  {
   "cell_type": "code",
   "execution_count": 19,
   "id": "37cfbfbc",
   "metadata": {},
   "outputs": [
    {
     "data": {
      "text/plain": [
       "64"
      ]
     },
     "execution_count": 19,
     "metadata": {},
     "output_type": "execute_result"
    }
   ],
   "source": [
    "int(\"100\", 8)"
   ]
  },
  {
   "cell_type": "code",
   "execution_count": null,
   "id": "58402878",
   "metadata": {},
   "outputs": [],
   "source": [
    "4%2==0"
   ]
  }
 ],
 "metadata": {
  "kernelspec": {
   "display_name": "Python 3 (ipykernel)",
   "language": "python",
   "name": "python3"
  },
  "language_info": {
   "codemirror_mode": {
    "name": "ipython",
    "version": 3
   },
   "file_extension": ".py",
   "mimetype": "text/x-python",
   "name": "python",
   "nbconvert_exporter": "python",
   "pygments_lexer": "ipython3",
   "version": "3.9.7"
  }
 },
 "nbformat": 4,
 "nbformat_minor": 5
}
